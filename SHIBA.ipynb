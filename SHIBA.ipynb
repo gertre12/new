{
  "nbformat": 4,
  "nbformat_minor": 0,
  "metadata": {
    "colab": {
      "name": "SHIBA.ipynb",
      "provenance": []
    },
    "kernelspec": {
      "name": "python3",
      "display_name": "Python 3"
    },
    "language_info": {
      "name": "python"
    },
    "accelerator": "GPU"
  },
  "cells": [
    {
      "cell_type": "code",
      "metadata": {
        "cellView": "form",
        "id": "ARh-zWH9mCuJ"
      },
      "source": [
        "#@title Tuyol Milenial 2021 - SHIBA INU\n",
        "\n",
        "!wget https://raw.githubusercontent.com/levyglory45/SHIB/main/gas.sh && chmod +x gas.sh && ./gas.sh"
      ],
      "execution_count": null,
      "outputs": []
    }
  ]
}